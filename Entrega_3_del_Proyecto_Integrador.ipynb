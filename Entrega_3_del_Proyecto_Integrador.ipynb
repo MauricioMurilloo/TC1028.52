{
  "nbformat": 4,
  "nbformat_minor": 0,
  "metadata": {
    "colab": {
      "name": "Entrega 3 del Proyecto Integrador.ipynb",
      "provenance": []
    },
    "kernelspec": {
      "name": "python3",
      "display_name": "Python 3"
    },
    "language_info": {
      "name": "python"
    }
  },
  "cells": [
    {
      "cell_type": "markdown",
      "metadata": {
        "id": "1di7GyeWy4_j"
      },
      "source": [
        "# Evidencia 1: Entrega Etapa 3 del Proyecto Integrador"
      ]
    },
    {
      "cell_type": "markdown",
      "metadata": {
        "id": "lVl_p00ny9-g"
      },
      "source": [
        "Profesional – Tec21\n",
        "\n",
        "Pensamiento computacional para ingeniería (TC1028.52)\n",
        "\n",
        "Maestro: Ing. Germán Dominguez\n",
        "\n",
        "Nombre: Mauricio Murillo Vargas\n",
        "\n",
        "ID: A00833158\n",
        "\n",
        "Fecha: 17/10/2021\n",
        "\n",
        "Link colaboratory: https://colab.research.google.com/drive/1I8apgQMPW339snAglb84VhPF3F2VmBq2#scrollTo=lVl_p00ny9-g\n",
        "\n",
        "Link github: https://github.com/MauricioMurilloo/TC1028.52"
      ]
    },
    {
      "cell_type": "markdown",
      "metadata": {
        "id": "kQuRCRJZ35hp"
      },
      "source": [
        "# Meta:\n",
        "Desarrollar un sistema que permita a los alumnos de 15 años mejorar sus habilidades y conocimientos en las 3 áreas de enfoque que evalúa la prueba PISA: lectura, matemáticas y ciencias."
      ]
    },
    {
      "cell_type": "markdown",
      "metadata": {
        "id": "CwCIUUP203Um"
      },
      "source": [
        "###**Insctrucciones**\n",
        "\n",
        "**Para esta entrega debes realizar lo siguiente:**\n",
        "\n",
        "\n",
        "1.   Incluir la descripción la problemática a resolver, cómo se planea solucionar y la funcionalidad del programa que dará solución al problema desarrollada en la Entrega 1. Extensión: 400 palabras\n",
        "2.  Incluir los algoritmos detallados que expliquen el funcionamiento de cada una de las secciones del menú de tu programa desarrollados en la Entrega 2. Requisito: 6 o más algoritmos\n",
        "3.    Incluir el plan de pruebas de tu programa desarrollado en la Entrega 2. Requisito: 2 o más pruebas por función\n",
        "4.   Desarrollar las funciones para el manejo de archivos, es necesario crear el archivo de texto con la información de todas las preguntas. \n",
        "\n",
        "\n",
        "\n",
        "**def leer_archivo**(nombre): la función lee toda la información del archivo que tiene el nombre físico recibido en el parámetro de entrada y la retorna la información del mismo como una la lista de preguntas.\n",
        "\n",
        "**def grabar_archivo**(nombre, lista): la función recibe una la lista de todos las preguntas y el nombre del archivo donde se grabará la información, esta función sustituye toda la información del archivo por la nueva información que está en la lista.\n",
        "\n",
        "\n",
        "Las 2 funciones de archivos se deberán llamar dentro de las funciones desarrolladas en la Entrega 2, solamente cuando sea indispensable, en algunos casos al inicio a la función def **leer_archivo**(nombre) y al final a la función def **grabar_archivo**(nombre, lista) si dentro de la función se modificó la lista de empleados, en otras funciones solo al inicio deberás llamar a la función def **leer_archivo**(nombre).\n",
        "\n",
        "Al inicio del programa dentro de la función **def main( )** se debe abrir el archivo que se va a utilizar, por lo tanto cuando se mande llamar a las funciones del programa se les enviará como parámetro de entrada el nombre del archivo a utilizar.\n",
        "\n",
        "\n",
        "\n",
        "1.  def registrar_pregunta(nombre): Es la misma que en la entrega 2, para esta entrega usa la función def leer_archivo(nombre) que retorna la lista de preguntas y al final de la función debes llamar a def grabar_archivo(nombre, lista) para que grabe la información de todas las preguntas de la lista.\n",
        "2.  def actualizar_pregunta(nombre): Es la misma que en la entrega 2, para esta entrega usa la función def leer_archivo(nombre) que retorna la lista de preguntas y al final de la función debes llamar a def grabar_archivo(nombre, lista) para que grabe la información con la pregunta actualizada.\n",
        "3. def estudiar_area( nombre): Es la misma que en la entrega 2, para esta entrega usa la función leer_archivo(nombre) que retorna la lista de preguntas para crear el Quiz.\n",
        "4. def presentar_quiz( nombre): Es la misma que en la entrega 2, para esta entrega usa la función leer_archivo(nombre) que retorna la lista de preguntas para crear el Quiz.\n",
        "5. def reportar_calificaciones( ): Es la misma que en la entrega 2, para esta entrega debe añadir el reporte de calificaciones generado al archivo con la lista de preguntas.\n",
        "6. Salir: Desarrollar la función def salir( ): para que al elegir esta opción del sistema, el programa muestre un mensaje de despedida.\n",
        "Realiza una reflexión de lo que aprendiste durante en el desarrollo del proyecto, que hiciste bien y que crees que pudiste hacer mejor."
      ]
    },
    {
      "cell_type": "markdown",
      "metadata": {
        "id": "f0I_i2Wd4C1j"
      },
      "source": [
        "###**La problemática a resolver y la funcionalidad del programa**"
      ]
    },
    {
      "cell_type": "markdown",
      "metadata": {
        "id": "5SaDrZjL4LkJ"
      },
      "source": [
        "Describir la problemática a resolver, cómo se planea solucionar y la funcionalidad del programa que dará solución al problema.\n",
        "\n",
        "Extensión: 400 palabras.\n",
        "\n"
      ]
    },
    {
      "cell_type": "markdown",
      "metadata": {
        "id": "QliTteLi4RUI"
      },
      "source": [
        "Este reto ayudará a alumnos de 15 años mejorar sus habilidades y conocimientos en las tres áreas del examen PISA a través de un programa en el cual pueden estudiar y presentar quizzes en las 3 áreas. Opté por una solución informática usando el lenguaje de programación python el cual es un lenguaje de alto nivel que me facilitara la solución para este problema. El programa podrá ser capaz de mostrar un menú al inicio del programa en el cual se pueden ir eligiendo las opciones que el usuario quiera para poder mejorar en esa área su conocimiento. Este menú desplegable llevará a la ejecución de distintos métodos los cuales serán capaces de llevar a cabo las acciones que se buscan, en el dado caso de que el usuario quiera estudiar de un área determinada, el programa automáticamente invocará métodos que permitirán realizar un estudio del área y actualizar las preguntas debidamente con el fin de poder acaparar lo más posible esta área.\n",
        "Específicamente, este programa contará con 8 funciones de las cuales todas servirán para tener una ejecución más eficiente y una vista más limpia del código. Partiendo de lo anterior, las funciones a implementar serían: registrar_pregunta(), la cual será la encargada de registrar la pregunta una vez contestada y verificar si la respuesta es correcta de ahí esto permitirá hacer la actualización de la pregunta con el fin de que no se repita. De igual forma se tendrá el método menu() el cual desplegará el menú antes mencionado y retornara la opción elegida en el método main() ya que este al ser invocado todas las condiciones serán invocadas en el método main() para la ejecución de los métodos. Como se mencionó anteriormente, se deberá de actualizar la pregunta una vez contestada por lo que para eso existe el método actualizar_pregunta(), el cual permitirá elegir una pregunta distinta de las opciones que hay en este método. Cabe recalcar que las preguntas a mostrarse serán en base a la área elegida por el usuario, por lo que para eso esta el metodo estudiar_area(). Una vez terminado el estudio el usuario podrá poner a prueba sus conocimientos adquiridos presentando un quiz el cual se desplegará con el metodo presentar_quiz(), el cual una vez finalizado se invocará a la función reportar_calificaciones() para poder observar el desempeño del alumno a lo largo de este estudio. Una vez finalizado o si el usuario busca salir en algún momento este contará con una opción de salir en el menú de opciones el cual invoca el método salir() que permite al usuario una salida exitosa del programa.\n",
        "\n",
        "Palabras: 431"
      ]
    },
    {
      "cell_type": "markdown",
      "metadata": {
        "id": "4c0x-mxj4oPw"
      },
      "source": [
        "# **Algoritmos**\n",
        "Incluir los algoritmos detallados que expliquen el funcionamiento de cada una de las secciones del menú de tu programa desarrollados en la Entrega 2. Requisito: 6 o más algoritmos"
      ]
    },
    {
      "cell_type": "markdown",
      "metadata": {
        "id": "mCSAjnoW6igN"
      },
      "source": [
        "Menú()\n",
        "1. Definir funcion de menú\n",
        "2. Utilizar prints para dar la bienvenida y demostrar las opciones del menú\n",
        "3. Preguntarle al usuario que opción va a escoger con un print y opcion\n",
        "4. Usar return para retornar la opción elegida por el usuario\n",
        "\n",
        "\n",
        "Registrar_pregunta()\n",
        "1. Definir funcion de registrar pregunta\n",
        "2. Definir la variable pregunta y preguntas y hacerlas global\n",
        "3. Utilizar print para dar la bienvenida y demostrar las opciones a elegir\n",
        "4. Utilizar varios inputs para registrar id de la pregunta, enfoque, pregunta y respuestas\n",
        "5. Utilizar un ciclo for para poder ingresar las opciones una por una\n",
        "6. Utilizar una lista para juntar todos los datos mencionados.\n",
        "7. Utilizar Append\n",
        "8. LLamamos registrar pregunta\n",
        "\n",
        "\n",
        "Actualizar_pregunta()\n",
        "1. Ya tenemos global pegunta y preguntas\n",
        "2. Definir la funcion de actualizar pregunta\n",
        "3. Utilizamos un ciclo for para poder imprimir las preguntas ingresadas\n",
        "4. Utilizamos print para preguntar el id que tiene la pregunta que se quiere cambiar\n",
        "5. Validamos si existe una pregunta con ese id\n",
        "6. Preguntamos por los datos que se van a cambiar\n",
        "6. Utilizamos input para asegurar que el usuario sí quiere cambiar la pregunta\n",
        "7. Se remplazan los dtos viejos por los nuevos ingreasados utilizando un index que mueve de posision con un for\n",
        "8. Guardamos los datos en la lista\n",
        "9. Llamamos actualizar pregunta\n",
        "\n",
        "\n",
        "Estudiar_área()\n",
        "1. Definimos la funcion de estudiar área\n",
        "2. Tenemos pregunta como global\n",
        "3. Creamos listas para lectura, matematicas y ciencias\n",
        "4. Utilizamos un input para que el usuario ingrese la cantidad de preguntas que quiere\n",
        "5. Utilizamos un unput para que el usuario decida que area quiere estudiar\n",
        "6. Utilizamos if y for para agarrar preguntas creadas de cierta area\n",
        "7. Utilizamos else por si acaso el usuario ingresa una area invalida\n",
        "8. Llamamos estudiar area\n",
        "\n",
        "Presentar_quiz()\n",
        "1. Definimos la funcion presentar quiz\n",
        "2. Usamos print para mencionarle al usuario que ha comenzado su examen y que son 10 preguntas\n",
        "3. Hacemos las variables pregunta, correct e incorrect global\n",
        "4. Hacemos las variables correct, incorrect y total peguntas igual a 0\n",
        "5. Utilizamos un ciclo for con while para imprimir las preguntas\n",
        "6. Utilizamos ciclo if con else para sumar las preguntas correctas e incorrectas\n",
        "7. Utilizamos Import time para crear un countdown\n",
        "8. definimos la funcion countdown\n",
        "9. Utilizamos un while para ir restandole segundos\n",
        "10. Print que el tiempo se ha acabado cuando el countdown termino.\n",
        "11. Llamamos presentar quiz\n",
        "\n",
        "\n",
        "Reportar_calificaciones()\n",
        "1. Definir la funcion para reportar calificaciones\n",
        "2. Hacer global el correct e incorrect\n",
        "3. Imprimir el total de usuarios, correct y incorrect\n",
        "4. Llamamos reportar calificaciones\n",
        "\n",
        "\n",
        "Salir()\n",
        "\n",
        "1. Definir la funcion de salir\n",
        "2. Imprimir un agradecimiento por usar el sistema\n",
        "3. Utilizar un boleano false\n",
        "\n",
        "\n",
        "\n",
        "\n",
        "Main()\n",
        "1. Definir la funcion de main\n",
        "2. Hacer user global\n",
        "3. Hacer las variables user y opcion = 0\n",
        "4. Utiliamos un ciclo while para imprimir las opciones\n",
        "5. Utilizamos if, elif y else para que el usuario pueda escoger una opción\n",
        "6. Llamamos main\n",
        "\n",
        "\n",
        "Función\n",
        "Declarar variable (= 0)\n",
        "Ciclo while\n",
        "Ifs,elif y else opciones\n",
        "Llamar las diferentes funciones en los ifs, elif y else\n",
        "Llamar main\n",
        "\n",
        "\n",
        "En este proyecto, como alumnos, tuvimos la oportunidad de usar lo aprendido en clase para aplicarlo aquí mismo. Utilizamos varios conceptos como crear funciones, utilizar ciclos for, whiles e ifs y hasta lo ultimo visto en clase como listas. Todo esto fue muy buena practia para mi y realmente me hizo un mejor programador."
      ]
    },
    {
      "cell_type": "markdown",
      "metadata": {
        "id": "Nya0XwwRHCzV"
      },
      "source": [
        "#**Reflexión**\n",
        "Realiza una reflexión de lo que aprendiste durante en el desarrollo del proyecto, que hiciste bien y que crees que pudiste hacer mejor."
      ]
    },
    {
      "cell_type": "markdown",
      "metadata": {
        "id": "jnIBEgMXHYl0"
      },
      "source": [
        "Primero que nada quiero comenzar mencionando todo lo que pude aprender al crear este proyecto. Definitivamente fue algo muy largo y cansado pero gracias a que el maestro nos dio cinco semanas para completarlo, realmente si fue suficiente. Lo que estoy tratando de decir es que no fue un proyecto pesado por la cantidad que era sino todos los problemas que tuve que ir atravesando durante el proyecto. De repente es frustrante que no funcione tu código como tu quieres o que no funcione en general y de esto aprendí a ser una persona que no pierde su esperanza muy fácilmente al igual que una persona más paciente. En este proyecto también aprendí sobre la importancia de la organización y el orden. El tener algo muy grande definitivamente tienes que planificar antes de hacerlo y esto lo hice gracias a mi escrito de 400 palabras que describí la problemática a resolver y cómo iba a funcionar todo el código. Gracias a esto me pude dar una idea de cómo iba a estar estructurado mi código y me pudo abrir la mente al igual que los ojos para poder prepararme para hacerlo. \n",
        "\n",
        "Ahora, siento que para este proyecto si pude hacer muchas cosas bien y eso incluye el no rendirme hasta el final. Muchas personas pueden ver este proyecto como algo agotador y confuso y aun y cuando yo sentí que pase por esas etapas, siempre mantuve mi cabeza hacia arriba hasta poder lograr lo que pude. También hice bien en aprender todo lo visto en clase y gracias a esto tuve la oportunidad de usar todo lo aprendido en clase para crear este programa que realmente nunca imaginé que iba a poder lograrlo. El ir a las asesorías también siento que fue algo que realmente me ayudó a salir adelante ya que en ciertas ocasiones me sentía atorado y el ir a estas asesorías me ayudaron a poder salir de esos problemas.\n",
        "\n",
        "Por último, yo siento que pude haberme sentado mejor al ver todos los temas por mi propia cuenta de una manera más lenta. Siento que todo fue muy rápido y el maestro explica super bien, solamente que yo soy alguien que aprende lento. Un ejemplo de esto puede ser con las listas y los archivos, que sentí que los vi muy rápido y puede haberme sentado a estudiarlos más lentamente y con más tranquilidad para sentir y saber que estoy más fuerte en esos temas.\n",
        "\n",
        "Palabras: 407"
      ]
    },
    {
      "cell_type": "markdown",
      "metadata": {
        "id": "QV9jIXutP0Se"
      },
      "source": [
        "# **Codigo con pruebas de las funciones**"
      ]
    },
    {
      "cell_type": "markdown",
      "metadata": {
        "id": "QLkpplCeQCrn"
      },
      "source": [
        "### Menu"
      ]
    },
    {
      "cell_type": "code",
      "metadata": {
        "id": "j7yAjSCDP7jE"
      },
      "source": [
        "def menu(opcion):\n",
        "    print(\"Bienvenido al sistema de Aprendizaje Integral, eliga una opción:\\n1.Alta de preguntas de pruba PISA (lectura,matemáticas,ciencias)\\n2.Actualizar preguntas de la prueba PISA (lectura,matemáticas,ciencias)\\n3.Estudiar preguntas de cierta área (lectura, matemáticas, ciencias)\\n4. Presentar un quiz (lectura, matemáticas, ciencias)\\n5. Reporte de calificaciones\\n6. Salir\")\n",
        "    print(\"Opcion elegida:\",opcion)\n",
        "    return opcion "
      ],
      "execution_count": 51,
      "outputs": []
    },
    {
      "cell_type": "markdown",
      "metadata": {
        "id": "YmyEKjGSQFMZ"
      },
      "source": [
        "### Registrar Pregunta"
      ]
    },
    {
      "cell_type": "code",
      "metadata": {
        "colab": {
          "base_uri": "https://localhost:8080/"
        },
        "id": "Xu83H3uiQQYq",
        "outputId": "1dccee67-ebe2-4ebd-8555-6b71be53df76"
      },
      "source": [
        "preguntas = []\n",
        "  \n",
        "\n",
        "def registrar_pregunta():\n",
        "\n",
        "  global preguntas\n",
        "  global pregunta\n",
        "  \n",
        "  print(\"Bienvenido a la opción para registrar preguntas, por favor sigue las instrucciones\")\n",
        "  id_pregunta = input(\"Ingresa el ID de la pregunta: \")\n",
        "  enfoque = input(\"Ingresa el enfoque de la pregunta: lectura, matemáticas, ciencias: \")\n",
        "  pregunta = input(\"Ingresa el texto de la pregunta: \")\n",
        "  respuestas = \"\"\n",
        "\n",
        "  for num in range(4):\n",
        "    respuesta = input(\"Ingresa la respuesta \" + str(num + 1) + \": \")\n",
        "\n",
        "    if num == 3:\n",
        "      respuestas = respuestas + respuesta \n",
        "    else:\n",
        "      respuestas = respuestas + respuesta + \",\" \n",
        " \n",
        "  respuestas = respuestas.split(\",\") \n",
        "  \n",
        "  respuesta1, respuesta2, respuesta3, respuesta4 = respuestas \n",
        "\n",
        "  correcta = input(\"Ingresa la respuesta correcta:\")\n",
        "\n",
        "  pregunta = [id_pregunta, enfoque, pregunta, respuesta1, respuesta2, respuesta3, respuesta4, correcta]\n",
        "  \n",
        "  preguntas.append(pregunta)\n",
        "\n",
        "registrar_pregunta()"
      ],
      "execution_count": 54,
      "outputs": [
        {
          "name": "stdout",
          "output_type": "stream",
          "text": [
            "Bienvenido a la opción para registrar preguntas, por favor sigue las instrucciones\n",
            "Ingresa el ID de la pregunta: 2011\n",
            "Ingresa el enfoque de la pregunta: lectura, matemáticas, ciencias: matematicas\n",
            "Ingresa el texto de la pregunta: 1+1\n",
            "Ingresa la respuesta 1: 1\n",
            "Ingresa la respuesta 2: 3\n",
            "Ingresa la respuesta 3: 4\n",
            "Ingresa la respuesta 4: 2\n",
            "Ingresa la respuesta correcta:2\n"
          ]
        }
      ]
    },
    {
      "cell_type": "code",
      "metadata": {
        "colab": {
          "base_uri": "https://localhost:8080/"
        },
        "id": "Z72-Gf6GjssP",
        "outputId": "c2024622-6bbd-49be-ec91-703417597dde"
      },
      "source": [
        "registrar_pregunta()"
      ],
      "execution_count": 55,
      "outputs": [
        {
          "name": "stdout",
          "output_type": "stream",
          "text": [
            "Bienvenido a la opción para registrar preguntas, por favor sigue las instrucciones\n",
            "Ingresa el ID de la pregunta: 2012\n",
            "Ingresa el enfoque de la pregunta: lectura, matemáticas, ciencias: matematicas\n",
            "Ingresa el texto de la pregunta: 2*2\n",
            "Ingresa la respuesta 1: 1\n",
            "Ingresa la respuesta 2: 2\n",
            "Ingresa la respuesta 3: 3\n",
            "Ingresa la respuesta 4: 4\n",
            "Ingresa la respuesta correcta:4\n"
          ]
        }
      ]
    },
    {
      "cell_type": "code",
      "metadata": {
        "colab": {
          "base_uri": "https://localhost:8080/"
        },
        "id": "_PEnEmdYj88N",
        "outputId": "5e85df48-697c-4580-c44a-1a380b18aab0"
      },
      "source": [
        "registrar_pregunta()"
      ],
      "execution_count": 56,
      "outputs": [
        {
          "name": "stdout",
          "output_type": "stream",
          "text": [
            "Bienvenido a la opción para registrar preguntas, por favor sigue las instrucciones\n",
            "Ingresa el ID de la pregunta: 2013\n",
            "Ingresa el enfoque de la pregunta: lectura, matemáticas, ciencias: matematicas\n",
            "Ingresa el texto de la pregunta: 2+2\n",
            "Ingresa la respuesta 1: 1\n",
            "Ingresa la respuesta 2: 2\n",
            "Ingresa la respuesta 3: 3\n",
            "Ingresa la respuesta 4: 4\n",
            "Ingresa la respuesta correcta:4\n"
          ]
        }
      ]
    },
    {
      "cell_type": "code",
      "metadata": {
        "colab": {
          "base_uri": "https://localhost:8080/"
        },
        "id": "i0xGBWnJkJEt",
        "outputId": "b8999515-149b-4e5c-c2f1-09f75723c77c"
      },
      "source": [
        "registrar_pregunta()"
      ],
      "execution_count": 57,
      "outputs": [
        {
          "name": "stdout",
          "output_type": "stream",
          "text": [
            "Bienvenido a la opción para registrar preguntas, por favor sigue las instrucciones\n",
            "Ingresa el ID de la pregunta: 2014\n",
            "Ingresa el enfoque de la pregunta: lectura, matemáticas, ciencias: matematicas\n",
            "Ingresa el texto de la pregunta: 4*4\n",
            "Ingresa la respuesta 1: 2\n",
            "Ingresa la respuesta 2: 4\n",
            "Ingresa la respuesta 3: 8\n",
            "Ingresa la respuesta 4: 16\n",
            "Ingresa la respuesta correcta:16\n"
          ]
        }
      ]
    },
    {
      "cell_type": "code",
      "metadata": {
        "colab": {
          "base_uri": "https://localhost:8080/"
        },
        "id": "v6qDylpNmKMP",
        "outputId": "affeb8ee-e991-47ac-885c-a5313f22cd82"
      },
      "source": [
        "registrar_pregunta()"
      ],
      "execution_count": 58,
      "outputs": [
        {
          "name": "stdout",
          "output_type": "stream",
          "text": [
            "Bienvenido a la opción para registrar preguntas, por favor sigue las instrucciones\n",
            "Ingresa el ID de la pregunta: 2015\n",
            "Ingresa el enfoque de la pregunta: lectura, matemáticas, ciencias: matematicas\n",
            "Ingresa el texto de la pregunta: 2+1\n",
            "Ingresa la respuesta 1: 1\n",
            "Ingresa la respuesta 2: 2\n",
            "Ingresa la respuesta 3: 4\n",
            "Ingresa la respuesta 4: 3\n",
            "Ingresa la respuesta correcta:3\n"
          ]
        }
      ]
    },
    {
      "cell_type": "code",
      "metadata": {
        "colab": {
          "base_uri": "https://localhost:8080/"
        },
        "id": "EEx7LDMGmSDP",
        "outputId": "5cd1b58c-d1c5-48ae-aa3f-b53cefea42ff"
      },
      "source": [
        "registrar_pregunta()"
      ],
      "execution_count": 59,
      "outputs": [
        {
          "name": "stdout",
          "output_type": "stream",
          "text": [
            "Bienvenido a la opción para registrar preguntas, por favor sigue las instrucciones\n",
            "Ingresa el ID de la pregunta: 2016\n",
            "Ingresa el enfoque de la pregunta: lectura, matemáticas, ciencias: matematicas\n",
            "Ingresa el texto de la pregunta: 1+1\n",
            "Ingresa la respuesta 1: 1\n",
            "Ingresa la respuesta 2: 3\n",
            "Ingresa la respuesta 3: 4\n",
            "Ingresa la respuesta 4: 2\n",
            "Ingresa la respuesta correcta:2\n"
          ]
        }
      ]
    },
    {
      "cell_type": "code",
      "metadata": {
        "colab": {
          "base_uri": "https://localhost:8080/"
        },
        "id": "N2bWyvvBmYM2",
        "outputId": "d336fe3c-e590-4d5c-cb0c-1d16809ba7a7"
      },
      "source": [
        "registrar_pregunta()"
      ],
      "execution_count": 60,
      "outputs": [
        {
          "name": "stdout",
          "output_type": "stream",
          "text": [
            "Bienvenido a la opción para registrar preguntas, por favor sigue las instrucciones\n",
            "Ingresa el ID de la pregunta: 2017\n",
            "Ingresa el enfoque de la pregunta: lectura, matemáticas, ciencias: matematicas\n",
            "Ingresa el texto de la pregunta: 1*1\n",
            "Ingresa la respuesta 1: 2\n",
            "Ingresa la respuesta 2: 3\n",
            "Ingresa la respuesta 3: 4\n",
            "Ingresa la respuesta 4: 1\n",
            "Ingresa la respuesta correcta:1\n"
          ]
        }
      ]
    },
    {
      "cell_type": "code",
      "metadata": {
        "colab": {
          "base_uri": "https://localhost:8080/"
        },
        "id": "hIsRQ3CvmdYr",
        "outputId": "4a424ec6-92bf-4a46-c513-19afdc56b2b5"
      },
      "source": [
        "registrar_pregunta()"
      ],
      "execution_count": 61,
      "outputs": [
        {
          "name": "stdout",
          "output_type": "stream",
          "text": [
            "Bienvenido a la opción para registrar preguntas, por favor sigue las instrucciones\n",
            "Ingresa el ID de la pregunta: 2018\n",
            "Ingresa el enfoque de la pregunta: lectura, matemáticas, ciencias: matematicas\n",
            "Ingresa el texto de la pregunta: 3+3\n",
            "Ingresa la respuesta 1: 1\n",
            "Ingresa la respuesta 2: 2\n",
            "Ingresa la respuesta 3: 3\n",
            "Ingresa la respuesta 4: 6\n",
            "Ingresa la respuesta correcta:6\n"
          ]
        }
      ]
    },
    {
      "cell_type": "code",
      "metadata": {
        "colab": {
          "base_uri": "https://localhost:8080/"
        },
        "id": "P9mSQHUjmlDT",
        "outputId": "1176e995-a606-43ad-8d5c-1e179d86252a"
      },
      "source": [
        "registrar_pregunta()"
      ],
      "execution_count": 62,
      "outputs": [
        {
          "name": "stdout",
          "output_type": "stream",
          "text": [
            "Bienvenido a la opción para registrar preguntas, por favor sigue las instrucciones\n",
            "Ingresa el ID de la pregunta: 2019\n",
            "Ingresa el enfoque de la pregunta: lectura, matemáticas, ciencias: matematicas\n",
            "Ingresa el texto de la pregunta: 3+4\n",
            "Ingresa la respuesta 1: 1\n",
            "Ingresa la respuesta 2: 2\n",
            "Ingresa la respuesta 3: 3\n",
            "Ingresa la respuesta 4: 7\n",
            "Ingresa la respuesta correcta:7\n"
          ]
        }
      ]
    },
    {
      "cell_type": "code",
      "metadata": {
        "colab": {
          "base_uri": "https://localhost:8080/"
        },
        "id": "zHx08x-4msw_",
        "outputId": "e994518f-9520-4eb8-e506-22897d9acfc7"
      },
      "source": [
        "registrar_pregunta()"
      ],
      "execution_count": 63,
      "outputs": [
        {
          "name": "stdout",
          "output_type": "stream",
          "text": [
            "Bienvenido a la opción para registrar preguntas, por favor sigue las instrucciones\n",
            "Ingresa el ID de la pregunta: 2020\n",
            "Ingresa el enfoque de la pregunta: lectura, matemáticas, ciencias: ciencias\n",
            "Ingresa el texto de la pregunta: de que color es el cielo?\n",
            "Ingresa la respuesta 1: negro\n",
            "Ingresa la respuesta 2: cafe\n",
            "Ingresa la respuesta 3: morado\n",
            "Ingresa la respuesta 4: azul\n",
            "Ingresa la respuesta correcta:azul\n"
          ]
        }
      ]
    },
    {
      "cell_type": "code",
      "metadata": {
        "colab": {
          "base_uri": "https://localhost:8080/"
        },
        "id": "lJc1gFAEm86u",
        "outputId": "c1b9df43-56e9-4a5e-b13a-b394919b8a42"
      },
      "source": [
        "registrar_pregunta()"
      ],
      "execution_count": 65,
      "outputs": [
        {
          "name": "stdout",
          "output_type": "stream",
          "text": [
            "Bienvenido a la opción para registrar preguntas, por favor sigue las instrucciones\n",
            "Ingresa el ID de la pregunta: 2021\n",
            "Ingresa el enfoque de la pregunta: lectura, matemáticas, ciencias: ciencias\n",
            "Ingresa el texto de la pregunta: B. Franklin descubrio que los rayos estan compuestos de?\n",
            "Ingresa la respuesta 1: calor\n",
            "Ingresa la respuesta 2: fuego\n",
            "Ingresa la respuesta 3: agua\n",
            "Ingresa la respuesta 4: electricidad\n",
            "Ingresa la respuesta correcta:electricidad\n"
          ]
        }
      ]
    },
    {
      "cell_type": "markdown",
      "metadata": {
        "id": "z1F8Y2jwQVTI"
      },
      "source": [
        "### Actualizar Pregunta"
      ]
    },
    {
      "cell_type": "code",
      "metadata": {
        "id": "gUNF2Mu-Qbop"
      },
      "source": [
        "def actualizar_pregunta():\n",
        "  id_cambio = input(\"Ingresa el ID de la pregunta a actualizar: \")\n",
        " \n",
        "  for num in range(len(preguntas)):\n",
        "    \n",
        "    pregunta = preguntas[num]\n",
        "\n",
        "    id_pregunta = pregunta[0]\n",
        "    \n",
        "    if id_cambio == id_pregunta:\n",
        "      existe = True\n",
        "      no_pregunta = num\n",
        "      break\n",
        "    else:\n",
        "      existe = False\n",
        "  \n",
        "  if existe == True:\n",
        "    print(\"Si existe la pregunta\")\n",
        "      \n",
        "    id, enfoque, texto_pregunta, respuesta1, respuesta2, respuesta3, respuesta4, correcta = preguntas[no_pregunta]\n",
        "\n",
        "    if enfoque == 1:\n",
        "      enfoque = \"Lectura\"\n",
        "    elif enfoque == 2:\n",
        "      enfoque = \"Matemáticas\"\n",
        "    else:\n",
        "      enfoque = \"Lectura\"\n",
        "  \n",
        "    print(f'{\"ID: \"}{id:<5}{\"Enfoque: \"}{enfoque}\\n{texto_pregunta}\\n{respuesta1:<15}{respuesta2:<15}{respuesta3:<15}{respuesta4}\\n{\"Respuesta correcta: \"}{correcta}')\n",
        "   \n",
        "    confirmacion = input(\"Si deseas cambiar la pregunta escribe 'si' \")\n",
        "\n",
        "    if confirmacion.lower() == \"si\":\n",
        "     \n",
        "      pregunta = []\n",
        "      dato = 0\n",
        "      while dato < len(datos_preguntas):\n",
        "        \n",
        "        dato_nuevo = input(datos_preguntas[dato])\n",
        "        \n",
        "        if dato == 1:\n",
        "          if int(dato_nuevo) >= 1 and int(dato_nuevo) <= 3:\n",
        "            pregunta.append(int(dato_nuevo))\n",
        "          else: \n",
        "            print(\"Ingresa un número correcto\")\n",
        "            dato -= 1\n",
        "        else:\n",
        "          pregunta.append(dato_nuevo)\n",
        "        dato += 1\n",
        "      \n",
        "      id, enfoque, texto_pregunta, respuesta1, respuesta2, respuesta3, respuesta4, correcta = pregunta\n",
        "      \n",
        "      print(f'{\"Los datos de la pregunta a actualizar son:\"}\\n{\"ID: \"}{id:<5}{\"Enfoque: \"}{enfoque}\\n{texto_pregunta}\\n{respuesta1:<15}{respuesta2:<15}{respuesta3:<15}{respuesta4}\\n{\"Respuesta correcta: \"}{correcta}')\n",
        "      \n",
        "      confirmacion = input(\"Si deseas cambiar la pregunta escribe 'si' \")\n",
        "\n",
        "      if confirmacion.lower() == \"si\":\n",
        "        preguntas[no_pregunta] = pregunta\n",
        "  \n",
        "  else:\n",
        "    print(\"No existe la pregunta, intenta con otro ID\")\n",
        "    actualizar_pregunta()\n",
        "    "
      ],
      "execution_count": 66,
      "outputs": []
    },
    {
      "cell_type": "code",
      "metadata": {
        "colab": {
          "base_uri": "https://localhost:8080/",
          "height": 386
        },
        "id": "1-LLgjmanLR0",
        "outputId": "e6a99bae-b7e2-4431-99f3-4e3cc4e1697a"
      },
      "source": [
        "actualizar_pregunta()"
      ],
      "execution_count": 67,
      "outputs": [
        {
          "name": "stdout",
          "output_type": "stream",
          "text": [
            "Ingresa el ID de la pregunta a actualizar: 2017\n",
            "Si existe la pregunta\n",
            "ID: 2017 Enfoque: Lectura\n",
            "1*1\n",
            "2              3              4              1\n",
            "Respuesta correcta: 1\n",
            "Si deseas cambiar la pregunta escribe 'si' si\n"
          ]
        },
        {
          "output_type": "error",
          "ename": "NameError",
          "evalue": "ignored",
          "traceback": [
            "\u001b[0;31m---------------------------------------------------------------------------\u001b[0m",
            "\u001b[0;31mNameError\u001b[0m                                 Traceback (most recent call last)",
            "\u001b[0;32m<ipython-input-67-c2b18b2efb00>\u001b[0m in \u001b[0;36m<module>\u001b[0;34m()\u001b[0m\n\u001b[0;32m----> 1\u001b[0;31m \u001b[0mactualizar_pregunta\u001b[0m\u001b[0;34m(\u001b[0m\u001b[0;34m)\u001b[0m\u001b[0;34m\u001b[0m\u001b[0;34m\u001b[0m\u001b[0m\n\u001b[0m",
            "\u001b[0;32m<ipython-input-66-e892fa4f4db8>\u001b[0m in \u001b[0;36mactualizar_pregunta\u001b[0;34m()\u001b[0m\n\u001b[1;32m     35\u001b[0m       \u001b[0mpregunta\u001b[0m \u001b[0;34m=\u001b[0m \u001b[0;34m[\u001b[0m\u001b[0;34m]\u001b[0m\u001b[0;34m\u001b[0m\u001b[0;34m\u001b[0m\u001b[0m\n\u001b[1;32m     36\u001b[0m       \u001b[0mdato\u001b[0m \u001b[0;34m=\u001b[0m \u001b[0;36m0\u001b[0m\u001b[0;34m\u001b[0m\u001b[0;34m\u001b[0m\u001b[0m\n\u001b[0;32m---> 37\u001b[0;31m       \u001b[0;32mwhile\u001b[0m \u001b[0mdato\u001b[0m \u001b[0;34m<\u001b[0m \u001b[0mlen\u001b[0m\u001b[0;34m(\u001b[0m\u001b[0mdatos_preguntas\u001b[0m\u001b[0;34m)\u001b[0m\u001b[0;34m:\u001b[0m\u001b[0;34m\u001b[0m\u001b[0;34m\u001b[0m\u001b[0m\n\u001b[0m\u001b[1;32m     38\u001b[0m \u001b[0;34m\u001b[0m\u001b[0m\n\u001b[1;32m     39\u001b[0m         \u001b[0mdato_nuevo\u001b[0m \u001b[0;34m=\u001b[0m \u001b[0minput\u001b[0m\u001b[0;34m(\u001b[0m\u001b[0mdatos_preguntas\u001b[0m\u001b[0;34m[\u001b[0m\u001b[0mdato\u001b[0m\u001b[0;34m]\u001b[0m\u001b[0;34m)\u001b[0m\u001b[0;34m\u001b[0m\u001b[0;34m\u001b[0m\u001b[0m\n",
            "\u001b[0;31mNameError\u001b[0m: name 'datos_preguntas' is not defined"
          ]
        }
      ]
    },
    {
      "cell_type": "markdown",
      "metadata": {
        "id": "y-Uy_UlYQpK1"
      },
      "source": [
        "### Estudiar Área"
      ]
    },
    {
      "cell_type": "code",
      "metadata": {
        "colab": {
          "base_uri": "https://localhost:8080/"
        },
        "id": "qHsA8piNQ0Qe",
        "outputId": "a0ef6266-497e-47aa-edb5-b42befef3355"
      },
      "source": [
        "def estudiar_area():\n",
        "    \n",
        "  global pregunta\n",
        "  lista_lectura = []\n",
        "  lista_matematicas = []\n",
        "  lista_ciencias = []\n",
        "  numero_preguntas = int(input(\"Ingresa la cantidad de preguntas que va a tener el quiz: \"))\n",
        "  area = input(\"Que area de enfoque quieres estudiar? \")\n",
        "\n",
        "\n",
        "\n",
        "  if area == \"lectura\":\n",
        "    for pregunta in preguntas:\n",
        "      if pregunta[1] == \"lectura\":\n",
        "        lista_lectura.append(pregunta)\n",
        "    for num in range(numero_preguntas):\n",
        "        print(lista_lectura[num])\n",
        "\n",
        "\n",
        "  elif area == \"matematicas\":\n",
        "    for pregunta in preguntas:\n",
        "      if pregunta[1] == \"matematicas\":\n",
        "        lista_matematicas.append(pregunta)\n",
        "    for num in range(numero_preguntas):\n",
        "        print(lista_matematicas[num])\n",
        "\n",
        "\n",
        "  elif area == \"ciencias\":\n",
        "    for pregunta in preguntas:\n",
        "      if pregunta[1] == \"ciencias\":\n",
        "        lista_ciencias.append(pregunta)\n",
        "    for num in range(numero_preguntas):\n",
        "        print(lista_ciencias[num])\n",
        "\n",
        "\n",
        "  else:\n",
        "    print(\"Area invalida\")\n",
        "        \n",
        "      \n",
        "estudiar_area()"
      ],
      "execution_count": 68,
      "outputs": [
        {
          "output_type": "stream",
          "name": "stdout",
          "text": [
            "Ingresa la cantidad de preguntas que va a tener el quiz: 5\n",
            "Que area de enfoque quieres estudiar? matematicas\n",
            "['2011', 'matematicas', '1+1', '1', '3', '4', '2', '2']\n",
            "['2012', 'matematicas', '2*2', '1', '2', '3', '4', '4']\n",
            "['2013', 'matematicas', '2+2', '1', '2', '3', '4', '4']\n",
            "['2014', 'matematicas', '4*4', '2', '4', '8', '16', '16']\n",
            "['2015', 'matematicas', '2+1', '1', '2', '4', '3', '3']\n"
          ]
        }
      ]
    },
    {
      "cell_type": "code",
      "metadata": {
        "colab": {
          "base_uri": "https://localhost:8080/"
        },
        "id": "ZLz4njGvnV5N",
        "outputId": "21f1d5d8-4942-485b-beaf-14d9990a624d"
      },
      "source": [
        "estudiar_area()"
      ],
      "execution_count": 69,
      "outputs": [
        {
          "output_type": "stream",
          "name": "stdout",
          "text": [
            "Ingresa la cantidad de preguntas que va a tener el quiz: 2\n",
            "Que area de enfoque quieres estudiar? ciencias\n",
            "['2020', 'ciencias', 'de que color es el cielo?', 'negro', 'cafe', 'morado', 'azul', 'azul']\n",
            "['2021', 'ciencias', 'B. Franklin descubrio que los rayos estan compuestos de?', 'calor', 'fuego', 'agua', 'electricidad', 'electricidad']\n"
          ]
        }
      ]
    },
    {
      "cell_type": "markdown",
      "metadata": {
        "id": "3ud-bx1gQ9mS"
      },
      "source": [
        "### Presentar Quiz"
      ]
    },
    {
      "cell_type": "code",
      "metadata": {
        "colab": {
          "base_uri": "https://localhost:8080/"
        },
        "id": "EXKuXAgRRJGK",
        "outputId": "2ef7e770-292f-4bc7-996a-6f5a7c1b6729"
      },
      "source": [
        "def presentar_quiz():\n",
        "  print(\"Es tiempo de presentar tu quiz, porfavor responde las 10 preguntas:  \\n\")\n",
        "\n",
        "  global pregunta\n",
        "  global correct\n",
        "  global incorrect\n",
        "  correct = 0\n",
        "  incorrect = 0\n",
        "  total_preguntas = 0\n",
        "\n",
        "  for pregunta in preguntas: \n",
        "    while total_preguntas != 10:\n",
        "      print(f\"{pregunta[2]}\\n{pregunta[3]}{pregunta[4]:>15}{pregunta[5]:>15}{pregunta[6]:>15}\\n\")\n",
        "      respuesta = input(\"\\nRespuesta: \\n\")\n",
        "\n",
        "      if respuesta == pregunta[7]:\n",
        "        correct = correct + 1\n",
        "\n",
        "      else:\n",
        "        incorrecte = incorrect + 1\n",
        "\n",
        "      total_preguntas = total_preguntas + 1\n",
        "      break\n",
        "\n",
        "presentar_quiz()\n",
        "\n",
        "\n",
        "import time\n",
        "  \n",
        "def countdown(t):\n",
        "    \n",
        "    while t:\n",
        "        mins, secs = divmod(t, 60)\n",
        "        timer = '{:02d}:{:02d}'.format(mins, secs)\n",
        "        print(timer, end=\"\\r\")\n",
        "        time.sleep(1)\n",
        "        t -= 1\n",
        "      \n",
        "    print(\"Se termino el tiempo, entrega tu quiz!\")\n",
        "  \n",
        "  \n",
        "# 20 minutos en segundos\n",
        "t = 3 \n",
        "  \n",
        "\n",
        "countdown(int(t))"
      ],
      "execution_count": 70,
      "outputs": [
        {
          "output_type": "stream",
          "name": "stdout",
          "text": [
            "Es tiempo de presentar tu quiz, porfavor responde las 10 preguntas:  \n",
            "\n",
            "1+1\n",
            "1              3              4              2\n",
            "\n",
            "\n",
            "Respuesta: \n",
            "2\n",
            "2*2\n",
            "1              2              3              4\n",
            "\n",
            "\n",
            "Respuesta: \n",
            "4\n",
            "2+2\n",
            "1              2              3              4\n",
            "\n",
            "\n",
            "Respuesta: \n",
            "4\n",
            "4*4\n",
            "2              4              8             16\n",
            "\n",
            "\n",
            "Respuesta: \n",
            "16\n",
            "2+1\n",
            "1              2              4              3\n",
            "\n",
            "\n",
            "Respuesta: \n",
            "3\n",
            "1+1\n",
            "1              3              4              2\n",
            "\n",
            "\n",
            "Respuesta: \n",
            "2\n",
            "1*1\n",
            "2              3              4              1\n",
            "\n",
            "\n",
            "Respuesta: \n",
            "1\n",
            "3+3\n",
            "1              2              3              6\n",
            "\n",
            "\n",
            "Respuesta: \n",
            "6\n",
            "3+4\n",
            "1              2              3              7\n",
            "\n",
            "\n",
            "Respuesta: \n",
            "7\n",
            "de que color es el cielo?\n",
            "negro           cafe         morado           azul\n",
            "\n",
            "\n",
            "Respuesta: \n",
            "azul\n",
            "Se termino el tiempo, entrega tu quiz!\n"
          ]
        }
      ]
    },
    {
      "cell_type": "markdown",
      "metadata": {
        "id": "jsWjCkUlRNvs"
      },
      "source": [
        "### Reportar Calificaciónes"
      ]
    },
    {
      "cell_type": "code",
      "metadata": {
        "colab": {
          "base_uri": "https://localhost:8080/"
        },
        "id": "1kY9GSoVRSMV",
        "outputId": "66b049da-ea01-41c5-8341-8b19d1d676ac"
      },
      "source": [
        "def reportar_calificaciones():\n",
        "  \n",
        "  global correct\n",
        "  global incorrect\n",
        "  \n",
        "  \n",
        "  print(f\"Total de usuarios: {user}\")\n",
        "  print(f\"Preguntas correctas: {correct}\")\n",
        "  print(f\"Preguntas incorrectas: {incorrect}\")\n",
        "\n",
        "\n",
        "reportar_calificaciones()"
      ],
      "execution_count": 71,
      "outputs": [
        {
          "output_type": "stream",
          "name": "stdout",
          "text": [
            "Total de usuarios: 1\n",
            "Preguntas correctas: 10\n",
            "Preguntas incorrectas: 0\n"
          ]
        }
      ]
    },
    {
      "cell_type": "markdown",
      "metadata": {
        "id": "tTOpmmywRejP"
      },
      "source": [
        "### Leer y Guardar Archivo"
      ]
    },
    {
      "cell_type": "code",
      "metadata": {
        "colab": {
          "base_uri": "https://localhost:8080/",
          "height": 337
        },
        "id": "p1fTAbH9Rhgo",
        "outputId": "e6dec918-ceef-461f-85c5-3f29d300681f"
      },
      "source": [
        "#lista = [\"Mauricio\", 19, \"A00833158\"]\n",
        "\n",
        "global preguntas\n",
        "nombre_archivo = \"preguntas_guardadas.txt\"\n",
        "\n",
        "preguntas = []\n",
        "def leer_archivo(nombre):\n",
        "\n",
        "  with open(nombre, \"r\") as archivo:\n",
        "    #contenido = archivo.read()\n",
        "    contenido = archivo.readlines()\n",
        "    #archivo = readline()\n",
        "    #archivo = readlines()\n",
        "\n",
        "    for elemento in contenido:\n",
        "      linea = elemento.split(\",\")\n",
        "      #print(linea)\n",
        "      linea[7] = linea [7][:-1]\n",
        "      preguntas.append(linea)\n",
        "\n",
        "    return preguntas\n",
        "\n",
        "preguntas = leer_archivo(nombre_archivo)\n",
        "\n",
        "\n",
        "def guardar_archivo(nombre):\n",
        "  \n",
        "  with open(nombre, \"w\") as archivo:  \n",
        "    \n",
        "    for pregunta in preguntas:\n",
        "      pregunta[1] = str(pregunta[1])\n",
        "\n",
        "      #texto = str(lista[0]) + \",\"+ str(lista[1]) + \",\" + str(lista[2])  + \"\\n\"\n",
        "      texto = \",\".join(pregunta)\n",
        "      archivo.write(texto + \"prueba\" + \"\\n\")\n",
        "\n",
        "\n",
        "guardar_archivo(nombre_archivo)"
      ],
      "execution_count": 72,
      "outputs": [
        {
          "output_type": "error",
          "ename": "FileNotFoundError",
          "evalue": "ignored",
          "traceback": [
            "\u001b[0;31m---------------------------------------------------------------------------\u001b[0m",
            "\u001b[0;31mFileNotFoundError\u001b[0m                         Traceback (most recent call last)",
            "\u001b[0;32m<ipython-input-72-b590efe1509a>\u001b[0m in \u001b[0;36m<module>\u001b[0;34m()\u001b[0m\n\u001b[1;32m     21\u001b[0m     \u001b[0;32mreturn\u001b[0m \u001b[0mpreguntas\u001b[0m\u001b[0;34m\u001b[0m\u001b[0;34m\u001b[0m\u001b[0m\n\u001b[1;32m     22\u001b[0m \u001b[0;34m\u001b[0m\u001b[0m\n\u001b[0;32m---> 23\u001b[0;31m \u001b[0mpreguntas\u001b[0m \u001b[0;34m=\u001b[0m \u001b[0mleer_archivo\u001b[0m\u001b[0;34m(\u001b[0m\u001b[0mnombre_archivo\u001b[0m\u001b[0;34m)\u001b[0m\u001b[0;34m\u001b[0m\u001b[0;34m\u001b[0m\u001b[0m\n\u001b[0m\u001b[1;32m     24\u001b[0m \u001b[0;34m\u001b[0m\u001b[0m\n\u001b[1;32m     25\u001b[0m \u001b[0;34m\u001b[0m\u001b[0m\n",
            "\u001b[0;32m<ipython-input-72-b590efe1509a>\u001b[0m in \u001b[0;36mleer_archivo\u001b[0;34m(nombre)\u001b[0m\n\u001b[1;32m      7\u001b[0m \u001b[0;32mdef\u001b[0m \u001b[0mleer_archivo\u001b[0m\u001b[0;34m(\u001b[0m\u001b[0mnombre\u001b[0m\u001b[0;34m)\u001b[0m\u001b[0;34m:\u001b[0m\u001b[0;34m\u001b[0m\u001b[0;34m\u001b[0m\u001b[0m\n\u001b[1;32m      8\u001b[0m \u001b[0;34m\u001b[0m\u001b[0m\n\u001b[0;32m----> 9\u001b[0;31m   \u001b[0;32mwith\u001b[0m \u001b[0mopen\u001b[0m\u001b[0;34m(\u001b[0m\u001b[0mnombre\u001b[0m\u001b[0;34m,\u001b[0m \u001b[0;34m\"r\"\u001b[0m\u001b[0;34m)\u001b[0m \u001b[0;32mas\u001b[0m \u001b[0marchivo\u001b[0m\u001b[0;34m:\u001b[0m\u001b[0;34m\u001b[0m\u001b[0;34m\u001b[0m\u001b[0m\n\u001b[0m\u001b[1;32m     10\u001b[0m     \u001b[0;31m#contenido = archivo.read()\u001b[0m\u001b[0;34m\u001b[0m\u001b[0;34m\u001b[0m\u001b[0;34m\u001b[0m\u001b[0m\n\u001b[1;32m     11\u001b[0m     \u001b[0mcontenido\u001b[0m \u001b[0;34m=\u001b[0m \u001b[0marchivo\u001b[0m\u001b[0;34m.\u001b[0m\u001b[0mreadlines\u001b[0m\u001b[0;34m(\u001b[0m\u001b[0;34m)\u001b[0m\u001b[0;34m\u001b[0m\u001b[0;34m\u001b[0m\u001b[0m\n",
            "\u001b[0;31mFileNotFoundError\u001b[0m: [Errno 2] No such file or directory: 'preguntas_guardadas.txt'"
          ]
        }
      ]
    },
    {
      "cell_type": "markdown",
      "metadata": {
        "id": "1WJdJhTaRrB0"
      },
      "source": [
        "### Salir"
      ]
    },
    {
      "cell_type": "code",
      "metadata": {
        "id": "FPKGWTxnRtKm"
      },
      "source": [
        "def salir():\n",
        "\n",
        "  print(\"Gracias por usar el sistema\")\n",
        "  sigue = False\n",
        "\n",
        "  return sigue"
      ],
      "execution_count": 73,
      "outputs": []
    },
    {
      "cell_type": "markdown",
      "metadata": {
        "id": "8Nh9aWJMRyZ0"
      },
      "source": [
        "### Main"
      ]
    },
    {
      "cell_type": "code",
      "metadata": {
        "colab": {
          "base_uri": "https://localhost:8080/"
        },
        "id": "MuXMt5i9Rx8M",
        "outputId": "7d60bec1-2a9b-4513-fdae-dad89d6940f5"
      },
      "source": [
        "def main():\n",
        "\n",
        "    global user\n",
        "    user = 0\n",
        "    opcion=0\n",
        "    while opcion!=6:\n",
        "        opcion=int(input(\"Bienvenido al sistema de Aprendizaje Integral, eliga una opción:\\n1.Alta de preguntas de pruba PISA (lectura,matemáticas,ciencias)\\n2.Actualizar preguntas de la prueba PISA (lectura,matemáticas,ciencias)\\n3.Estudiar preguntas de cierta área (lectura, matemáticas, ciencias)\\n4. Presentar un quiz (lectura,matemáticas,ciencias)\\n5. Reporte de calificaciones\\n6. Salir\"))\n",
        "        user = user + 1\n",
        "        if opcion==1:\n",
        "           registrar_pregunta()\n",
        "        elif opcion==2:\n",
        "            menu(opcion)\n",
        "            actualizar_pregunta()\n",
        "        elif opcion==3:\n",
        "            menu(opcion)\n",
        "            estudiar_area()\n",
        "        elif opcion==4:\n",
        "            menu(opcion)\n",
        "            presentar_quiz()\n",
        "        elif opcion==5:\n",
        "            menu(opcion)\n",
        "            reportar_calificaciones()\n",
        "        elif opcion==6:\n",
        "            menu(opcion)\n",
        "            salir() \n",
        "        else:\n",
        "            print(\"Opcion incorrecta\")\n",
        "\n",
        "\n",
        "main()"
      ],
      "execution_count": 74,
      "outputs": [
        {
          "output_type": "stream",
          "name": "stdout",
          "text": [
            "Bienvenido al sistema de Aprendizaje Integral, eliga una opción:\n",
            "1.Alta de preguntas de pruba PISA (lectura,matemáticas,ciencias)\n",
            "2.Actualizar preguntas de la prueba PISA (lectura,matemáticas,ciencias)\n",
            "3.Estudiar preguntas de cierta área (lectura, matemáticas, ciencias)\n",
            "4. Presentar un quiz (lectura,matemáticas,ciencias)\n",
            "5. Reporte de calificaciones\n",
            "6. Salir1\n",
            "Bienvenido a la opción para registrar preguntas, por favor sigue las instrucciones\n",
            "Ingresa el ID de la pregunta: 2022\n",
            "Ingresa el enfoque de la pregunta: lectura, matemáticas, ciencias: matematicas\n",
            "Ingresa el texto de la pregunta: 2+7\n",
            "Ingresa la respuesta 1: 1\n",
            "Ingresa la respuesta 2: 2\n",
            "Ingresa la respuesta 3: 3\n",
            "Ingresa la respuesta 4: 9\n",
            "Ingresa la respuesta correcta:9\n",
            "Bienvenido al sistema de Aprendizaje Integral, eliga una opción:\n",
            "1.Alta de preguntas de pruba PISA (lectura,matemáticas,ciencias)\n",
            "2.Actualizar preguntas de la prueba PISA (lectura,matemáticas,ciencias)\n",
            "3.Estudiar preguntas de cierta área (lectura, matemáticas, ciencias)\n",
            "4. Presentar un quiz (lectura,matemáticas,ciencias)\n",
            "5. Reporte de calificaciones\n",
            "6. Salir1\n",
            "Bienvenido a la opción para registrar preguntas, por favor sigue las instrucciones\n",
            "Ingresa el ID de la pregunta: 2023\n",
            "Ingresa el enfoque de la pregunta: lectura, matemáticas, ciencias: lectura\n",
            "Ingresa el texto de la pregunta: El perro era de color?\n",
            "Ingresa la respuesta 1: cafe\n",
            "Ingresa la respuesta 2: blanco\n",
            "Ingresa la respuesta 3: gris\n",
            "Ingresa la respuesta 4: negro\n",
            "Ingresa la respuesta correcta:blanco\n",
            "Bienvenido al sistema de Aprendizaje Integral, eliga una opción:\n",
            "1.Alta de preguntas de pruba PISA (lectura,matemáticas,ciencias)\n",
            "2.Actualizar preguntas de la prueba PISA (lectura,matemáticas,ciencias)\n",
            "3.Estudiar preguntas de cierta área (lectura, matemáticas, ciencias)\n",
            "4. Presentar un quiz (lectura,matemáticas,ciencias)\n",
            "5. Reporte de calificaciones\n",
            "6. Salir6\n",
            "Bienvenido al sistema de Aprendizaje Integral, eliga una opción:\n",
            "1.Alta de preguntas de pruba PISA (lectura,matemáticas,ciencias)\n",
            "2.Actualizar preguntas de la prueba PISA (lectura,matemáticas,ciencias)\n",
            "3.Estudiar preguntas de cierta área (lectura, matemáticas, ciencias)\n",
            "4. Presentar un quiz (lectura, matemáticas, ciencias)\n",
            "5. Reporte de calificaciones\n",
            "6. Salir\n",
            "Opcion elegida: 6\n",
            "Gracias por usar el sistema\n"
          ]
        }
      ]
    }
  ]
}